{
 "cells": [
  {
   "cell_type": "code",
   "execution_count": 2,
   "id": "25c98b71",
   "metadata": {
    "pycharm": {
     "is_executing": true
    }
   },
   "outputs": [],
   "source": [
    "import pandas as pd\n",
    "from selenium import webdriver\n",
    "import time\n",
    "from tqdm.notebook import tqdm"
   ]
  },
  {
   "cell_type": "code",
   "execution_count": null,
   "id": "8786cdc6",
   "metadata": {
    "pycharm": {
     "is_executing": true
    }
   },
   "outputs": [],
   "source": [
    "import selenium\n",
    "\n",
    "selenium.__version__"
   ]
  },
  {
   "cell_type": "code",
   "execution_count": 13,
   "id": "239db71c",
   "metadata": {
    "scrolled": true
   },
   "outputs": [
    {
     "name": "stderr",
     "output_type": "stream",
     "text": [
      "C:\\Users\\kl122\\AppData\\Local\\Temp\\ipykernel_732044\\561080464.py:2: DeprecationWarning: executable_path has been deprecated, please pass in a Service object\n",
      "  driver = webdriver.Chrome(path)\n"
     ]
    }
   ],
   "source": [
    "path = 'chromedriver_117.exe'\n",
    "driver = webdriver.Chrome(path)\n",
    "\n",
    "driver.get('http://www.melon.com')\n",
    "time.sleep(2)"
   ]
  },
  {
   "cell_type": "code",
   "execution_count": 45,
   "id": "3afb1cba",
   "metadata": {},
   "outputs": [
    {
     "name": "stderr",
     "output_type": "stream",
     "text": [
      "C:\\Users\\kl122\\AppData\\Local\\Temp\\ipykernel_732044\\480965052.py:2: DeprecationWarning: find_element_by_css_selector is deprecated. Please use find_element(by=By.CSS_SELECTOR, value=css_selector) instead\n",
      "  driver.find_element_by_css_selector('.menu_bg.menu01').click()\n",
      "C:\\Users\\kl122\\AppData\\Local\\Temp\\ipykernel_732044\\480965052.py:4: DeprecationWarning: find_element_by_css_selector is deprecated. Please use find_element(by=By.CSS_SELECTOR, value=css_selector) instead\n",
      "  driver.find_element_by_css_selector('.menu_chart.m4').click()\n",
      "C:\\Users\\kl122\\AppData\\Local\\Temp\\ipykernel_732044\\480965052.py:6: DeprecationWarning: find_element_by_* commands are deprecated. Please use find_element() instead\n",
      "  driver.find_element_by_id('DM0000').click()\n"
     ]
    }
   ],
   "source": [
    "# 멜론 월간 TOP100\n",
    "driver.find_element_by_css_selector('.menu_bg.menu01').click()\n",
    "time.sleep(1)\n",
    "driver.find_element_by_css_selector('.menu_chart.m4').click()\n",
    "time.sleep(1)\n",
    "driver.find_element_by_id('DM0000').click()\n",
    "# 중복 선택 안됨\n",
    "# time.sleep(1)\n",
    "# driver.find_element_by_id('GN0100').click()"
   ]
  },
  {
   "cell_type": "code",
   "execution_count": 86,
   "id": "6b36d0f8",
   "metadata": {},
   "outputs": [
    {
     "name": "stdout",
     "output_type": "stream",
     "text": [
      "Requirement already satisfied: pandas in c:\\users\\kl122\\anaconda3\\lib\\site-packages (1.4.0)Note: you may need to restart the kernel to use updated packages.\n",
      "\n",
      "Requirement already satisfied: python-dateutil>=2.8.1 in c:\\users\\kl122\\anaconda3\\lib\\site-packages (from pandas) (2.8.2)\n",
      "Requirement already satisfied: pytz>=2020.1 in c:\\users\\kl122\\anaconda3\\lib\\site-packages (from pandas) (2023.3.post1)\n",
      "Requirement already satisfied: numpy>=1.18.5 in c:\\users\\kl122\\appdata\\roaming\\python\\python38\\site-packages (from pandas) (1.22.0)\n",
      "Requirement already satisfied: six>=1.5 in c:\\users\\kl122\\anaconda3\\lib\\site-packages (from python-dateutil>=2.8.1->pandas) (1.16.0)\n"
     ]
    }
   ],
   "source": [
    "pip install pandas"
   ]
  },
  {
   "cell_type": "code",
   "execution_count": 90,
   "id": "60066eff",
   "metadata": {},
   "outputs": [
    {
     "ename": "AttributeError",
     "evalue": "module 'pandas' has no attribute 'DataFrame'",
     "output_type": "error",
     "traceback": [
      "\u001b[1;31m---------------------------------------------------------------------------\u001b[0m",
      "\u001b[1;31mAttributeError\u001b[0m                            Traceback (most recent call last)",
      "Cell \u001b[1;32mIn[90], line 1\u001b[0m\n\u001b[1;32m----> 1\u001b[0m \u001b[43mpd\u001b[49m\u001b[38;5;241;43m.\u001b[39;49m\u001b[43mDataFrame\u001b[49m()\n",
      "\u001b[1;31mAttributeError\u001b[0m: module 'pandas' has no attribute 'DataFrame'"
     ]
    }
   ],
   "source": [
    "pd.DataFrame()"
   ]
  },
  {
   "cell_type": "code",
   "execution_count": 88,
   "id": "13360094",
   "metadata": {},
   "outputs": [
    {
     "ename": "AttributeError",
     "evalue": "module 'pandas' has no attribute 'DataFrame'",
     "output_type": "error",
     "traceback": [
      "\u001b[1;31m---------------------------------------------------------------------------\u001b[0m",
      "\u001b[1;31mAttributeError\u001b[0m                            Traceback (most recent call last)",
      "Cell \u001b[1;32mIn[88], line 1\u001b[0m\n\u001b[1;32m----> 1\u001b[0m \u001b[43mpd\u001b[49m\u001b[38;5;241;43m.\u001b[39;49m\u001b[43mDataFrame\u001b[49m(columns\u001b[38;5;241m=\u001b[39m[\u001b[38;5;124m'\u001b[39m\u001b[38;5;124msong\u001b[39m\u001b[38;5;124m'\u001b[39m,\u001b[38;5;124m'\u001b[39m\u001b[38;5;124martist\u001b[39m\u001b[38;5;124m'\u001b[39m,\u001b[38;5;124m'\u001b[39m\u001b[38;5;124mgenre\u001b[39m\u001b[38;5;124m'\u001b[39m,\u001b[38;5;124m'\u001b[39m\u001b[38;5;124mlyric\u001b[39m\u001b[38;5;124m'\u001b[39m])\n",
      "\u001b[1;31mAttributeError\u001b[0m: module 'pandas' has no attribute 'DataFrame'"
     ]
    }
   ],
   "source": [
    "pd.DataFrame(columns=['song','artist','genre','lyric'])"
   ]
  },
  {
   "cell_type": "code",
   "execution_count": null,
   "id": "01d53eac",
   "metadata": {},
   "outputs": [],
   "source": [
    "for i in range(100):\n",
    "    more_info_list = driver.find_elements_by_css_selector('.btn.button_icons.type03.song_info')\n",
    "    more_info_list[i].click()\n",
    "    time.sleep(1)\n",
    "    \n",
    "    # 제목 가져오기\n",
    "    song = driver.find_element_by_css_selector('.song_name')\n",
    "    # 가수 가져오기\n",
    "    artist = driver.find_element_by_css_selector('.artist')\n",
    "    # 장르 가져오기\n",
    "    genre = driver.find_element_by_class_name('list')\n",
    "    # 가사 가져오기\n",
    "    lyric = driver.find_element_by_class_name('lyric')\n",
    "    print(lyric.text)\n",
    "    print(song.text, artist.text, genre.text.split('\\n')[5], len(lyric.text))"
   ]
  },
  {
   "cell_type": "code",
   "execution_count": 77,
   "id": "8dd09043",
   "metadata": {
    "scrolled": true
   },
   "outputs": [
    {
     "name": "stderr",
     "output_type": "stream",
     "text": [
      "C:\\Users\\kl122\\AppData\\Local\\Temp\\ipykernel_732044\\623562074.py:1: DeprecationWarning: find_elements_by_css_selector is deprecated. Please use find_elements(by=By.CSS_SELECTOR, value=css_selector) instead\n",
      "  more_info_list = driver.find_elements_by_css_selector('.btn.button_icons.type03.song_info')\n"
     ]
    },
    {
     "name": "stdout",
     "output_type": "stream",
     "text": [
      "Love Lee\n",
      "AKMU (악뮤)\n",
      "앨범\n",
      "Love Lee\n",
      "발매일\n",
      "2023.08.21\n",
      "장르\n",
      "댄스\n",
      "FLAC\n",
      "Flac 16/24bit\n",
      "댄스\n",
      "You know\n",
      "내 스타일이 아닌 음악을 들어도\n",
      "You know\n",
      "좋아하지 않는 음식을 먹어도\n",
      "우산 없이 비가 와 홀딱 다 젖어도 좋아\n",
      "I love it because I love you\n",
      "\n",
      "우리 관계 디비디비딥\n",
      "매일 봐도 처음같이 비기비기닝\n",
      "춤추고 싶어 빌리빌리진\n",
      "우리 앞 우리 옆 시기시기질투\n",
      "자유로운 날갯짓 훨훨훨\n",
      "꽃송이가 나를 삼킬 걸\n",
      "알면서 난 뛰어들었어\n",
      "Jump j-j-jump jump jump jump\n",
      "\n",
      "So lovely day so lovely\n",
      "Errday with you so lovely\n",
      "Du durudu durudu du durudu\n",
      "\n",
      "Spell L.o.v.e.L.e.e\n",
      "이름만 불러도 you can feel me\n",
      "눈빛만 봐도 알면서 my love\n",
      "\n",
      "You know\n",
      "아끼는 옷에 coffee를 쏟아도\n",
      "You know\n",
      "내가 준 목걸이를 잃어버려도\n",
      "한 번 더 같은 것 사준 걸 다시 또 잃어도 좋아\n",
      "I don't care I just care about you\n",
      "\n",
      "여기 어때 how you like that\n",
      "다 퍼주고 될게 빈털터리\n",
      "Jubilate 박수갈채\n",
      "안 반하고 누가 배겨 love sick\n",
      "비타민 U가 필요해\n",
      "만들어줘 샛노랗게\n",
      "체크무늬 벌집 두 눈에\n",
      "Honey help honey help\n",
      "\n",
      "So lovely day so lovely\n",
      "Errday with you so lovely\n",
      "Du durudu durudu du durudu\n",
      "\n",
      "Spell L.o.v.e.L.e.e\n",
      "이름만 불러도 you can feel me\n",
      "눈빛만 봐도 알면서 my love\n",
      "\n",
      "누구 사랑 먹고 그리 이쁘게 컸니\n",
      "Mommy or your daddy or them both\n",
      "Lovey-dovey things 너의 곁에 everyday\n",
      "Good morning good night\n",
      "너의 이름 부를 때\n",
      "\n",
      "So lovely day so lovely\n",
      "Errday with you so lovely\n",
      "Du durudu durudu du durudu\n",
      "\n",
      "Spell L.o.v.e.L.e.e\n",
      "이름만 불러도 you can feel me\n",
      "눈빛만 봐도 알면서 my love\n"
     ]
    },
    {
     "name": "stderr",
     "output_type": "stream",
     "text": [
      "C:\\Users\\kl122\\AppData\\Local\\Temp\\ipykernel_732044\\623562074.py:5: DeprecationWarning: find_element_by_css_selector is deprecated. Please use find_element(by=By.CSS_SELECTOR, value=css_selector) instead\n",
      "  song = driver.find_element_by_css_selector('.song_name')\n",
      "C:\\Users\\kl122\\AppData\\Local\\Temp\\ipykernel_732044\\623562074.py:8: DeprecationWarning: find_element_by_css_selector is deprecated. Please use find_element(by=By.CSS_SELECTOR, value=css_selector) instead\n",
      "  artist = driver.find_element_by_css_selector('.artist')\n",
      "C:\\Users\\kl122\\AppData\\Local\\Temp\\ipykernel_732044\\623562074.py:11: DeprecationWarning: find_element_by_class_name is deprecated. Please use find_element(by=By.CLASS_NAME, value=name) instead\n",
      "  genre = driver.find_element_by_class_name('list')\n",
      "C:\\Users\\kl122\\AppData\\Local\\Temp\\ipykernel_732044\\623562074.py:15: DeprecationWarning: find_element_by_class_name is deprecated. Please use find_element(by=By.CLASS_NAME, value=name) instead\n",
      "  lyric = driver.find_element_by_class_name('lyric')\n"
     ]
    }
   ],
   "source": [
    "# more_info_list = driver.find_elements_by_css_selector('.btn.button_icons.type03.song_info')\n",
    "# more_info_list[0].click()\n",
    "# time.sleep(1)\n",
    "# # 제목 가져오기\n",
    "# song = driver.find_element_by_css_selector('.song_name')\n",
    "# print(song.text)\n",
    "# # 가수 가져오기\n",
    "# artist = driver.find_element_by_css_selector('.artist')\n",
    "# print(artist.text)\n",
    "# # 장르 가져오기\n",
    "# genre = driver.find_element_by_class_name('list')\n",
    "# print(genre.text)\n",
    "# print(genre.text.split('\\n')[5])\n",
    "# # 가사 가져오기\n",
    "# lyric = driver.find_element_by_class_name('lyric')\n",
    "# print(lyric.text)"
   ]
  },
  {
   "cell_type": "code",
   "execution_count": null,
   "id": "8474e950",
   "metadata": {},
   "outputs": [],
   "source": []
  }
 ],
 "metadata": {
  "kernelspec": {
   "display_name": "Python 3 (ipykernel)",
   "language": "python",
   "name": "python3"
  },
  "language_info": {
   "codemirror_mode": {
    "name": "ipython",
    "version": 3
   },
   "file_extension": ".py",
   "mimetype": "text/x-python",
   "name": "python",
   "nbconvert_exporter": "python",
   "pygments_lexer": "ipython3",
   "version": "3.8.18"
  },
  "toc": {
   "base_numbering": 1,
   "nav_menu": {},
   "number_sections": true,
   "sideBar": true,
   "skip_h1_title": false,
   "title_cell": "Table of Contents",
   "title_sidebar": "Contents",
   "toc_cell": false,
   "toc_position": {},
   "toc_section_display": true,
   "toc_window_display": false
  }
 },
 "nbformat": 4,
 "nbformat_minor": 5
}
